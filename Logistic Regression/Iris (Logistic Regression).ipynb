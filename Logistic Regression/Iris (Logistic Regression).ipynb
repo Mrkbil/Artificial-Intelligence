{
  "nbformat": 4,
  "nbformat_minor": 0,
  "metadata": {
    "colab": {
      "provenance": []
    },
    "kernelspec": {
      "name": "python3",
      "display_name": "Python 3"
    },
    "language_info": {
      "name": "python"
    }
  },
  "cells": [
    {
      "cell_type": "code",
      "execution_count": 1,
      "metadata": {
        "colab": {
          "base_uri": "https://localhost:8080/"
        },
        "id": "4l-gh3cuZ8tV",
        "outputId": "ba2c26a4-bab3-4df9-ddff-acda8e37a16c"
      },
      "outputs": [
        {
          "output_type": "stream",
          "name": "stdout",
          "text": [
            "Initial Cost:  3.463233488381551\n",
            "Test Cost:  4.00771908296803\n",
            "Validation Accuracy: 72.22%\n",
            "Final Cost:  0.07010053331080952\n",
            "Test Cost:  0.09648760288850856\n",
            "Validation Accuracy: 94.44%\n"
          ]
        }
      ],
      "source": [
        "# 0110202295 Rakibul Islam\n",
        "from sklearn import datasets\n",
        "import numpy as np\n",
        "import matplotlib.pyplot as plt\n",
        "\n",
        "iris = datasets.load_iris()\n",
        "x = iris.data[:, :2]\n",
        "y = (iris.target != 0) * 1\n",
        "\n",
        "x_training = []\n",
        "y_training = []\n",
        "x_test = []\n",
        "y_test = []\n",
        "x_validation = []\n",
        "y_validation = []\n",
        "for i in range(len(x)):\n",
        "    prob = np.random.random()\n",
        "    if 0 <= prob <= 0.7:\n",
        "        x_training.append(x[i])\n",
        "        y_training.append(y[i])\n",
        "    elif 0.7 < prob <= 0.85:\n",
        "        x_test.append(x[i])\n",
        "        y_test.append(y[i])\n",
        "    else:\n",
        "        x_validation.append(x[i])\n",
        "        y_validation.append(y[i])\n",
        "\n",
        "X_training = np.asarray(x_training)\n",
        "Y_training = np.asarray(y_training)\n",
        "X_test = np.asarray(x_test)\n",
        "Y_test = np.asarray(y_test)\n",
        "X_validation = np.asarray(x_validation)\n",
        "Y_validation = np.asarray(y_validation)\n",
        "costs = []\n",
        "iterations = []\n",
        "\n",
        "\n",
        "def sigmoid(z):\n",
        "    return 1 / (1 + np.e ** -z)\n",
        "\n",
        "\n",
        "def compute_output(x, w, b):\n",
        "    XT = np.transpose(x)\n",
        "    z = np.dot(w, XT) + b  # w.shape=(NN,n)  XT.shape = (n,m) z.shape=(NN,m)\n",
        "    yz = sigmoid(z)\n",
        "    return yz\n",
        "\n",
        "\n",
        "def compute_cost(x, y, w, b):\n",
        "    m = x.shape[0]\n",
        "    yz = compute_output(x, w, b)\n",
        "    loss = -y * np.log(yz) - (1 - y) * np.log(1 - yz)\n",
        "    cost = np.sum(loss) / m\n",
        "    return cost\n",
        "\n",
        "\n",
        "def compute_gradient(x, y, w, b):\n",
        "    m = x.shape[0]\n",
        "    n = x.shape[1]\n",
        "    yz = compute_output(x, w, b)\n",
        "    cost = yz - y\n",
        "    dw = np.dot(cost, x) / m\n",
        "    db = np.sum(cost) / m\n",
        "    return dw, db\n",
        "\n",
        "\n",
        "def gradient_descent(x, y, epochs, alpha):\n",
        "    global w, b\n",
        "    global costs, iterations\n",
        "    # costs.clear()\n",
        "    # iterations.clear()\n",
        "    for i in range(epochs):\n",
        "        dw, db = compute_gradient(x, y, w, b)\n",
        "        w = w - alpha * dw\n",
        "        b = b - alpha * db\n",
        "        updated_Cost = compute_cost(x, y, w, b)\n",
        "        # print(\"Iteration-\",i,\"Cost:\",updated_Cost)\n",
        "        costs.append(updated_Cost)\n",
        "        iterations.append(i)\n",
        "\n",
        "\n",
        "def validation(x, y, w, b):\n",
        "    output = compute_output(x, w, b)\n",
        "    correct = 0\n",
        "    m = output.shape[1]\n",
        "    for i in range(m):\n",
        "        if output[0, i] >= 0.5:\n",
        "            output[0, i] = 1\n",
        "        else:\n",
        "            output[0, i] = 0\n",
        "        if output[0, i] == y[i]:\n",
        "            correct += 1\n",
        "    return correct / m\n",
        "\n",
        "\n",
        "w = np.array([[1, 1]])\n",
        "b = np.array([[2]])\n",
        "iteration = 1000\n",
        "alpha = 0.1\n",
        "\n",
        "print(\"Initial Cost: \", compute_cost(X_training, Y_training, w, b))\n",
        "print(\"Test Cost: \", compute_cost(X_test, Y_test, w, b))\n",
        "print(\"Validation Accuracy: {:.2f}%\".format(validation(x_validation, y_validation, w, b) * 100))\n",
        "gradient_descent(X_training, Y_training, iteration, alpha)\n",
        "print(\"Final Cost: \", compute_cost(X_training, Y_training, w, b))\n",
        "print(\"Test Cost: \", compute_cost(X_test, Y_test, w, b))\n",
        "print(\"Validation Accuracy: {:.2f}%\".format(validation(x_validation, y_validation, w, b) * 100))"
      ]
    },
    {
      "cell_type": "code",
      "source": [
        "fig, ax = plt.subplots(1, 3, figsize=(12, 5), sharey=True)\n",
        "ax[0].scatter(X_training[:, 0], Y_training)\n",
        "ax[0].scatter(X_training[:, 1], Y_training)\n",
        "ax[0].set_xlabel(\"Feature\")\n",
        "ax[0].set_ylabel(\"Output\")\n",
        "ax[0].set_title(\"Training Set\")\n",
        "ax[1].scatter(X_validation[:, 0], Y_validation)\n",
        "ax[1].scatter(X_validation[:, 1], Y_validation)\n",
        "ax[1].set_xlabel(\"Feature\")\n",
        "ax[1].set_title(\"Validation Set\")\n",
        "ax[2].scatter(X_test[:, 0], Y_test)\n",
        "ax[2].scatter(X_test[:, 1], Y_test)\n",
        "ax[2].set_xlabel(\"Feature\")\n",
        "ax[2].set_title(\"Test Set\")\n",
        "plt.show()"
      ],
      "metadata": {
        "colab": {
          "base_uri": "https://localhost:8080/",
          "height": 350
        },
        "id": "caZ8UnhPaGu_",
        "outputId": "e85ad82f-9303-459e-9a16-278a644026ae"
      },
      "execution_count": 2,
      "outputs": [
        {
          "output_type": "display_data",
          "data": {
            "text/plain": [
              "<Figure size 864x360 with 3 Axes>"
            ],
            "image/png": "[encoded data removed]"
          },
          "metadata": {
            "needs_background": "light"
          }
        }
      ]
    },
    {
      "cell_type": "code",
      "source": [
        "plt.plot(iterations, costs)\n",
        "plt.title(f\"Logistic Regression (Alpha={alpha})\")\n",
        "plt.xlabel(\"Iterations\")\n",
        "plt.ylabel(\"Costs\")\n",
        "plt.show()"
      ],
      "metadata": {
        "colab": {
          "base_uri": "https://localhost:8080/",
          "height": 295
        },
        "id": "23hjZm-XaKJm",
        "outputId": "4e36d5c8-4010-4484-c7a9-eb782ead9b07"
      },
      "execution_count": 3,
      "outputs": [
        {
          "output_type": "display_data",
          "data": {
            "text/plain": [
              "<Figure size 432x288 with 1 Axes>"
            ],
            "image/png": "[encoded data removed]"
          },
          "metadata": {
            "needs_background": "light"
          }
        }
      ]
    }
  ]
}